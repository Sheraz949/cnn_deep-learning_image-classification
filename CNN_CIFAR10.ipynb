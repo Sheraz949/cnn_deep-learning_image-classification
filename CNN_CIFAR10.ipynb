{
 "cells": [
  {
   "cell_type": "code",
   "execution_count": 38,
   "id": "966f8090-b3f7-4959-abc5-daec8f487e6b",
   "metadata": {},
   "outputs": [],
   "source": [
    "import tensorflow as tf\n",
    "from tensorflow.keras import datasets, models, layers\n",
    "import matplotlib.pyplot as plt\n",
    "%matplotlib inline\n",
    "import numpy as np\n"
   ]
  },
  {
   "cell_type": "code",
   "execution_count": 40,
   "id": "5cb9a134-fbbf-4844-aa60-9318e08d8782",
   "metadata": {},
   "outputs": [
    {
     "data": {
      "text/plain": [
       "(50000, 32, 32, 3)"
      ]
     },
     "execution_count": 40,
     "metadata": {},
     "output_type": "execute_result"
    }
   ],
   "source": [
    "(X_train, y_train), (X_test, y_test)= datasets.cifar10.load_data()\n",
    "X_train.shape"
   ]
  },
  {
   "cell_type": "code",
   "execution_count": 42,
   "id": "dfa20764-ddd5-4c1f-a77f-e9aa8b946fdb",
   "metadata": {},
   "outputs": [
    {
     "data": {
      "text/plain": [
       "array([[6],\n",
       "       [9],\n",
       "       [9],\n",
       "       [4],\n",
       "       [1]], dtype=uint8)"
      ]
     },
     "execution_count": 42,
     "metadata": {},
     "output_type": "execute_result"
    }
   ],
   "source": [
    "y_train[:5]"
   ]
  },
  {
   "cell_type": "code",
   "execution_count": 44,
   "id": "1676caf0-5629-4ab5-ac80-b548a5cf9a5d",
   "metadata": {},
   "outputs": [
    {
     "data": {
      "text/plain": [
       "array([6, 9, 9, ..., 9, 1, 1], dtype=uint8)"
      ]
     },
     "execution_count": 44,
     "metadata": {},
     "output_type": "execute_result"
    }
   ],
   "source": [
    "y_train.reshape(-1, )"
   ]
  },
  {
   "cell_type": "code",
   "execution_count": 46,
   "id": "b025d021-b145-4db4-b99a-65e0de9e01bf",
   "metadata": {},
   "outputs": [],
   "source": [
    "X_train=X_train/255\n",
    "X_test=X_test/255"
   ]
  },
  {
   "cell_type": "code",
   "execution_count": 50,
   "id": "f2e23d48-719d-401f-9e29-fdbfb52d15f1",
   "metadata": {},
   "outputs": [],
   "source": [
    "cnn= models.Sequential([\n",
    "        layers.Conv2D(filters=32, kernel_size=(3,3), activation='relu', input_shape=(32,32,3)),\n",
    "        layers.MaxPooling2D((2,2)),\n",
    "        layers.Conv2D(filters=32, kernel_size=(3,3), activation='relu'),\n",
    "        layers.MaxPooling2D((2,2)),\n",
    "    \n",
    "        layers.Flatten(),\n",
    "        layers.Dense(64, activation='relu'),\n",
    "        layers.Dense(10, activation='softmax')\n",
    "    ])\n",
    "                      "
   ]
  },
  {
   "cell_type": "code",
   "execution_count": 52,
   "id": "0a4d2415-3554-4cbd-98dc-4d7201c1af15",
   "metadata": {},
   "outputs": [],
   "source": [
    "cnn.compile(optimizer='adam',\n",
    "              loss='sparse_categorical_crossentropy',\n",
    "              metrics=['accuracy'])"
   ]
  },
  {
   "cell_type": "code",
   "execution_count": 54,
   "id": "b62dc5b2-38ea-4762-be36-70d7906aec30",
   "metadata": {},
   "outputs": [
    {
     "name": "stdout",
     "output_type": "stream",
     "text": [
      "Epoch 1/10\n",
      "\u001b[1m1563/1563\u001b[0m \u001b[32m━━━━━━━━━━━━━━━━━━━━\u001b[0m\u001b[37m\u001b[0m \u001b[1m72s\u001b[0m 39ms/step - accuracy: 0.3682 - loss: 1.7275\n",
      "Epoch 2/10\n",
      "\u001b[1m1563/1563\u001b[0m \u001b[32m━━━━━━━━━━━━━━━━━━━━\u001b[0m\u001b[37m\u001b[0m \u001b[1m66s\u001b[0m 42ms/step - accuracy: 0.5651 - loss: 1.2311\n",
      "Epoch 3/10\n",
      "\u001b[1m1563/1563\u001b[0m \u001b[32m━━━━━━━━━━━━━━━━━━━━\u001b[0m\u001b[37m\u001b[0m \u001b[1m72s\u001b[0m 46ms/step - accuracy: 0.6236 - loss: 1.0769\n",
      "Epoch 4/10\n",
      "\u001b[1m1563/1563\u001b[0m \u001b[32m━━━━━━━━━━━━━━━━━━━━\u001b[0m\u001b[37m\u001b[0m \u001b[1m76s\u001b[0m 48ms/step - accuracy: 0.6488 - loss: 1.0085\n",
      "Epoch 5/10\n",
      "\u001b[1m1563/1563\u001b[0m \u001b[32m━━━━━━━━━━━━━━━━━━━━\u001b[0m\u001b[37m\u001b[0m \u001b[1m74s\u001b[0m 47ms/step - accuracy: 0.6691 - loss: 0.9422\n",
      "Epoch 6/10\n",
      "\u001b[1m1563/1563\u001b[0m \u001b[32m━━━━━━━━━━━━━━━━━━━━\u001b[0m\u001b[37m\u001b[0m \u001b[1m74s\u001b[0m 47ms/step - accuracy: 0.6845 - loss: 0.9057\n",
      "Epoch 7/10\n",
      "\u001b[1m1563/1563\u001b[0m \u001b[32m━━━━━━━━━━━━━━━━━━━━\u001b[0m\u001b[37m\u001b[0m \u001b[1m78s\u001b[0m 50ms/step - accuracy: 0.6969 - loss: 0.8659\n",
      "Epoch 8/10\n",
      "\u001b[1m1563/1563\u001b[0m \u001b[32m━━━━━━━━━━━━━━━━━━━━\u001b[0m\u001b[37m\u001b[0m \u001b[1m73s\u001b[0m 47ms/step - accuracy: 0.7127 - loss: 0.8231\n",
      "Epoch 9/10\n",
      "\u001b[1m1563/1563\u001b[0m \u001b[32m━━━━━━━━━━━━━━━━━━━━\u001b[0m\u001b[37m\u001b[0m \u001b[1m65s\u001b[0m 41ms/step - accuracy: 0.7208 - loss: 0.7982\n",
      "Epoch 10/10\n",
      "\u001b[1m1563/1563\u001b[0m \u001b[32m━━━━━━━━━━━━━━━━━━━━\u001b[0m\u001b[37m\u001b[0m \u001b[1m63s\u001b[0m 40ms/step - accuracy: 0.7290 - loss: 0.7715\n"
     ]
    },
    {
     "data": {
      "text/plain": [
       "<keras.src.callbacks.history.History at 0x206ddd38620>"
      ]
     },
     "execution_count": 54,
     "metadata": {},
     "output_type": "execute_result"
    }
   ],
   "source": [
    "cnn.fit(X_train, y_train, epochs=10, shuffle=True)"
   ]
  },
  {
   "cell_type": "code",
   "execution_count": 56,
   "id": "a565862a-2a3e-4e88-b61b-954020e68ee5",
   "metadata": {},
   "outputs": [
    {
     "data": {
      "text/plain": [
       "array([3, 8, 8, ..., 5, 1, 7], dtype=uint8)"
      ]
     },
     "execution_count": 56,
     "metadata": {},
     "output_type": "execute_result"
    }
   ],
   "source": [
    "y_test=y_test.reshape(-1, )\n",
    "y_test"
   ]
  },
  {
   "cell_type": "code",
   "execution_count": 60,
   "id": "59ff61af-f7d8-438b-917e-d38e7ef22775",
   "metadata": {},
   "outputs": [
    {
     "data": {
      "text/plain": [
       "<matplotlib.image.AxesImage at 0x206d7b4c320>"
      ]
     },
     "execution_count": 60,
     "metadata": {},
     "output_type": "execute_result"
    },
    {
     "data": {
      "image/png": "[encoded data removed]",
      "text/plain": [
       "<Figure size 640x480 with 1 Axes>"
      ]
     },
     "metadata": {},
     "output_type": "display_data"
    }
   ],
   "source": [
    "plt.imshow(X_test[4])"
   ]
  },
  {
   "cell_type": "code",
   "execution_count": 64,
   "id": "bb14956d-4ae1-406b-a8ba-aee64e23d0c3",
   "metadata": {},
   "outputs": [
    {
     "data": {
      "text/plain": [
       "array([[[0.25490196, 0.26666667, 0.19607843],\n",
       "        [0.2745098 , 0.31764706, 0.25098039],\n",
       "        [0.18823529, 0.25098039, 0.18039216],\n",
       "        ...,\n",
       "        [0.2       , 0.2627451 , 0.16078431],\n",
       "        [0.21176471, 0.29803922, 0.20784314],\n",
       "        [0.2627451 , 0.34117647, 0.25882353]],\n",
       "\n",
       "       [[0.27058824, 0.31372549, 0.22745098],\n",
       "        [0.30980392, 0.4       , 0.31764706],\n",
       "        [0.23529412, 0.29019608, 0.22352941],\n",
       "        ...,\n",
       "        [0.21176471, 0.25882353, 0.17254902],\n",
       "        [0.25490196, 0.35294118, 0.27058824],\n",
       "        [0.23921569, 0.31764706, 0.25882353]],\n",
       "\n",
       "       [[0.28627451, 0.37254902, 0.28235294],\n",
       "        [0.32941176, 0.42745098, 0.34117647],\n",
       "        [0.28235294, 0.34509804, 0.2745098 ],\n",
       "        ...,\n",
       "        [0.30588235, 0.38431373, 0.29411765],\n",
       "        [0.28627451, 0.38431373, 0.30196078],\n",
       "        [0.18823529, 0.23137255, 0.2       ]],\n",
       "\n",
       "       ...,\n",
       "\n",
       "       [[0.37254902, 0.49803922, 0.36078431],\n",
       "        [0.35686275, 0.48235294, 0.3372549 ],\n",
       "        [0.22352941, 0.30980392, 0.17647059],\n",
       "        ...,\n",
       "        [0.56470588, 0.6745098 , 0.42352941],\n",
       "        [0.66666667, 0.78823529, 0.5254902 ],\n",
       "        [0.47843137, 0.56078431, 0.38431373]],\n",
       "\n",
       "       [[0.36862745, 0.49019608, 0.32156863],\n",
       "        [0.29411765, 0.40784314, 0.27843137],\n",
       "        [0.1254902 , 0.20392157, 0.09411765],\n",
       "        ...,\n",
       "        [0.56078431, 0.70980392, 0.45490196],\n",
       "        [0.60392157, 0.7372549 , 0.48235294],\n",
       "        [0.41568627, 0.50588235, 0.34901961]],\n",
       "\n",
       "       [[0.30588235, 0.4       , 0.25490196],\n",
       "        [0.1372549 , 0.2       , 0.10588235],\n",
       "        [0.09411765, 0.15686275, 0.06666667],\n",
       "        ...,\n",
       "        [0.56078431, 0.70196078, 0.53333333],\n",
       "        [0.60392157, 0.7254902 , 0.57254902],\n",
       "        [0.50196078, 0.61176471, 0.45882353]]])"
      ]
     },
     "execution_count": 64,
     "metadata": {},
     "output_type": "execute_result"
    }
   ],
   "source": [
    "X_test[(4)]"
   ]
  },
  {
   "cell_type": "code",
   "execution_count": null,
   "id": "95b3ae21-0cb3-4ffd-b6b0-314a27c7463f",
   "metadata": {},
   "outputs": [],
   "source": []
  }
 ],
 "metadata": {
  "kernelspec": {
   "display_name": "Python 3 (ipykernel)",
   "language": "python",
   "name": "python3"
  },
  "language_info": {
   "codemirror_mode": {
    "name": "ipython",
    "version": 3
   },
   "file_extension": ".py",
   "mimetype": "text/x-python",
   "name": "python",
   "nbconvert_exporter": "python",
   "pygments_lexer": "ipython3",
   "version": "3.12.4"
  }
 },
 "nbformat": 4,
 "nbformat_minor": 5
}
